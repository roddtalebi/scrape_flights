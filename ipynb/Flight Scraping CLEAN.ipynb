{
 "cells": [
  {
   "cell_type": "code",
   "execution_count": 1,
   "metadata": {
    "collapsed": true
   },
   "outputs": [],
   "source": [
    "from time import sleep, strftime\n",
    "import datetime\n",
    "import time\n",
    "import numpy as np\n",
    "import scipy.interpolate as si\n",
    "import re\n",
    "import os\n",
    "import pandas as pd\n",
    "\n",
    "from selenium import webdriver\n",
    "from selenium.webdriver.common.keys import Keys\n",
    "from selenium.webdriver.common.action_chains import ActionChains\n",
    "\n",
    "#import smtplib\n",
    "#from email.mime.multipart import MIMEMultipart"
   ]
  },
  {
   "cell_type": "code",
   "execution_count": 2,
   "metadata": {
    "collapsed": true
   },
   "outputs": [],
   "source": [
    "def rand_sleep(length=None):\n",
    "    if (length is None) or (length == \"short\"):\n",
    "        tm = np.random.randint(2,10)\n",
    "    elif length == \"long\":\n",
    "        tm = np.random.randint(20,60)\n",
    "    elif length == \"minutes\":\n",
    "        tm = np.random.randint(90,60*5)\n",
    "    elif length == \"1hour\":\n",
    "        tm = np.random.randint(60*60,60*90)\n",
    "    else:\n",
    "        tm = 5\n",
    "    \n",
    "    print(\"...sleeping for %isec\" % tm)\n",
    "    sleep(tm)\n",
    "    return"
   ]
  },
  {
   "cell_type": "markdown",
   "metadata": {},
   "source": [
    "## Set up Browser\n",
    "Open new window and session for selenium with Chrome.\n",
    "\n",
    "Also set the browser so it doesn't interrupt you and ask to allow for notifications."
   ]
  },
  {
   "cell_type": "code",
   "execution_count": 3,
   "metadata": {
    "collapsed": true
   },
   "outputs": [],
   "source": [
    "def set_up():\n",
    "    chromedriver_path='C:/Users/roddt/Desktop/flights/chromedriver/download/chromedriver.exe'\n",
    "\n",
    "    chrome_options = webdriver.ChromeOptions()\n",
    "    prefs = {\"profile.default_content_setting_values.notifications\" : 2}\n",
    "    chrome_options.add_experimental_option(\"prefs\",prefs)\n",
    "\n",
    "    driver = webdriver.Chrome(executable_path=chromedriver_path, options=chrome_options)\n",
    "    #action =  ActionChains(driver)\n",
    "    \n",
    "    print(\"initial page opened\")\n",
    "    rand_sleep()\n",
    "    \n",
    "    return driver"
   ]
  },
  {
   "cell_type": "markdown",
   "metadata": {},
   "source": [
    "## Start from dumby site\n"
   ]
  },
  {
   "cell_type": "code",
   "execution_count": 4,
   "metadata": {
    "collapsed": true
   },
   "outputs": [],
   "source": [
    "def go_home():\n",
    "    reddit = \"https://www.reddit.com/r/travel/new\"\n",
    "    driver.get(reddit)\n",
    "    print(\"made to to reddit\")\n",
    "    rand_sleep()\n",
    "\n",
    "    comments = '//a[@data-click-id = \"comments\"]'\n",
    "    driver.find_element_by_xpath(comments).click()\n",
    "    print(\"made it to comments\")\n",
    "    rand_sleep()\n",
    "    \n",
    "    return"
   ]
  },
  {
   "cell_type": "markdown",
   "metadata": {},
   "source": [
    "## Get Scraping URLs"
   ]
  },
  {
   "cell_type": "code",
   "execution_count": 13,
   "metadata": {
    "collapsed": true
   },
   "outputs": [],
   "source": [
    "def catch_popup():\n",
    "    try:\n",
    "        xp_popup_close = '//button[contains(@id,\"dialog-close\") and contains(@class,\"Button-No-Standard-Style close \")]'\n",
    "        driver.find_elements_by_xpath(xp_popup_close)[5].click()\n",
    "        print(\"caught pop up\")\n",
    "        rand_sleep()\n",
    "    except Exception as e:\n",
    "        print(\"no pop up\")\n",
    "        pass\n",
    "    return"
   ]
  },
  {
   "cell_type": "code",
   "execution_count": 6,
   "metadata": {
    "collapsed": true
   },
   "outputs": [],
   "source": [
    "def get_to_url(url, debug=False):\n",
    "    driver.get(url)\n",
    "    \n",
    "    # check for captcha\n",
    "    xp_results_table = '//*[@id = \"px-captcha\"]'\n",
    "    captcha = driver.find_elements_by_xpath(xp_results_table)\n",
    "    if captcha:\n",
    "        print(\"CAPTCHA PAGE - %s\" % (datetime.datetime.now().time()))\n",
    "        if debug:\n",
    "            print(\"DEBUG ON...exiting\")\n",
    "            return\n",
    "        go_home()\n",
    "        rand_sleep(\"1hour\")\n",
    "        # try again\n",
    "        driver.get(url)\n",
    "        captcha = driver.find_elements_by_xpath(xp_results_table)\n",
    "        if captcha:\n",
    "            print(\"failed to evade captcha...EXIT\")\n",
    "            return \"FAILED\"\n",
    "        else:\n",
    "            print(\"successfully evaded captcha!\")\n",
    "    print(\"got to url\")\n",
    "    rand_sleep(\"long\")\n",
    "    return"
   ]
  },
  {
   "cell_type": "code",
   "execution_count": 36,
   "metadata": {
    "collapsed": true
   },
   "outputs": [],
   "source": [
    "def parse_text(flight_element, home, dest):\n",
    "    '''\n",
    "    we can split by \\n for flight_element but the len() of the output is variable\n",
    "    also we need to separate the data from one leg to the other\n",
    "    then there can also be more than one amount so pick the $ before \"View Deal\"\n",
    "    '''\n",
    "    starts = []\n",
    "    for match in re.finditer(\"\\d{1,2}/\\d{1,2}\", flight_element):\n",
    "        starts.append(match.start())\n",
    "    ends = []\n",
    "    ends.append(re.search(\"%s.*%s\" % (home, dest), flight_element).end())\n",
    "    ends.append(re.search(\"%s.*%s\" % (dest, home), flight_element).end())\n",
    "    # get the flight info for each leg\n",
    "    data = {}\n",
    "    for s,e,cat in zip(starts,ends,['Depart','Return']):\n",
    "        info = flight_element[s:e].split(\"\\n\")\n",
    "        mm, dd = info[0].split(\"/\") # mm/dd\n",
    "        yr = datetime.datetime.now().year\n",
    "        if datetime.datetime.now().month > int(mm):\n",
    "            # handle the Dec -> Jan transition\n",
    "            yr += 1\n",
    "        # takeoff time\n",
    "        start_tm = info[2].split(\" \")[0] + info[2].split(\" \")[1]\n",
    "        tkoff = \"%i-%s-%s %s\" % (yr, mm, dd, start_tm)\n",
    "        tkoff_obj = datetime.datetime.strptime(tkoff,'%Y-%m-%d %I:%M%p')\n",
    "        # landing time\n",
    "        end_tm = info[2].split(\" \")[3] + info[2].split(\" \")[4]\n",
    "        lnd = \"%i-%s-%s %s\" % (yr, mm, dd, end_tm)\n",
    "        lnd_obj = datetime.datetime.strptime(lnd,'%Y-%m-%d %I:%M%p')\n",
    "        if info[2].split(\" \")[-1] == \"+1\":\n",
    "            # then add a day to return date\n",
    "            lnd_obj = lnd_obj + datetime.timedelta(days=1)\n",
    "        data['%s Takeoff DateTimeObj' % cat] = tkoff_obj\n",
    "        data['%s Landing DateTimeObj' % cat] = lnd_obj\n",
    "        data['%s DateTimeStr' % cat] = \"%s %s @ %s \" % (info[1],info[0],info[2])\n",
    "        # now handle duration\n",
    "        hh,mm = info[6].split(\" \")\n",
    "        dur_obj = datetime.timedelta(hours=int(hh[:-1]), minutes=int(mm[:-1]))\n",
    "        data['%s Duration TimeDelta' % cat] = dur_obj\n",
    "        data['%s Duration Str' % cat] = \"%s w/ %s\" % (info[6],info[4])\n",
    "    # get price\n",
    "    # grab the first $\n",
    "    ammount = re.search(\"\\$\\d*\", flight_element).group()\n",
    "    data['Price'] = int(ammount[1:])\n",
    "    #data['Carrier'] = flight_element[e+1:].split(\"\\n\")[0] #not right\n",
    "    data['tag'] = \"\"\n",
    "    if \"Sponsor\" in flight_element:\n",
    "        data['tag'] = \"Sponsored\"\n",
    "    if \"Best\" in flight_element:\n",
    "        data['tag'] = \"Best\"\n",
    "    if \"Cheapest\" in flight_element:\n",
    "        data['tag'] = \"Cheapest\"\n",
    "    return data\n"
   ]
  },
  {
   "cell_type": "code",
   "execution_count": 8,
   "metadata": {
    "collapsed": true
   },
   "outputs": [],
   "source": [
    "def scrape_page(home, destination):\n",
    "    catch_popup()\n",
    "    \n",
    "    xp_results_table = '//*[@class = \"resultWrapper\"]'\n",
    "    flight_containers = driver.find_elements_by_xpath(xp_results_table)\n",
    "    flights_list = [flight.text for flight in flight_containers]\n",
    "    \n",
    "    data_list = []\n",
    "    for flight_element in flights_list:\n",
    "        data_dict = parse_text(flight_element, home, destination)\n",
    "        data_list.append(data_dict)\n",
    "    \n",
    "    print(\"finished url scraping\")\n",
    "    return data_list"
   ]
  },
  {
   "cell_type": "code",
   "execution_count": 9,
   "metadata": {
    "collapsed": true
   },
   "outputs": [],
   "source": [
    "def build_kayak_link(home=\"ATL\", destination=None,\n",
    "                     depart_date=None, return_date=None,\n",
    "                     depart_dow=None, return_dow=None, num_weeks=None, buffer=2,\n",
    "                     flexible=None,\n",
    "                     sort=None):\n",
    "    '''\n",
    "    trying to mimic this...\n",
    "    https://www.kayak.com/flights/ATL-BFS/2019-09-06-flexible-1day/2019-09-09-flexible-1day?sort=price_a\n",
    "    \n",
    "    * the dates can be explicit yyyy-mm-dd\n",
    "    * could also give day of the week and will search that day of the week for the next #ofweeks\n",
    "    * I JUST REALIZED THAT THIS ONLY WORKS IF YOUR DEPART DOW IS TOWARDS END OF THE WEEK AND RETURN IS EARLY\n",
    "    * flexible needs to be an int [1,2,3]\n",
    "    * sort needs to be [\"price\",\"best\",\"time\"]\n",
    "    '''\n",
    "    if (depart_date is not None) and (return_date is not None):\n",
    "        departs = [depart_date]\n",
    "        returns = [return_date]\n",
    "    elif (depart_dow is not None) and (return_dow is not None) and (type(num_weeks) is int):\n",
    "        dow = [\"Monday\",\"Tuesday\",\"Wednesday\",\"Thursday\",\"Friday\",\"Saturday\",\"Sunday\"]\n",
    "        assert ((depart_dow in dow) and (return_dow in dow)), \"wrong dow; make sure to capitalize\"\n",
    "        # get dow in a format that datetime object will understand\n",
    "        today = datetime.datetime.today()\n",
    "        depart_dow = int(np.argwhere(depart_dow==np.array(dow))[0,0]) # super ugly, sorry\n",
    "        return_dow = int(np.argwhere(return_dow==np.array(dow))[0,0])\n",
    "        if depart_dow < return_dow:\n",
    "            trip_days = return_dow - depart_dow\n",
    "        elif depart_dow > return_dow:\n",
    "            trip_days = (7-depart_dow) + return_dow\n",
    "        else:\n",
    "            trip_days = 7\n",
    "        if today.weekday() <= depart_dow:\n",
    "            index_date = today + datetime.timedelta(weeks=2, days=depart_dow-today.weekday())\n",
    "        else: #today.weekday() > depart_dow\n",
    "            index_date = today + datetime.timedelta(weeks=2, days=7-today.weekday()+depart_dow)\n",
    "        departs = []\n",
    "        returns = []\n",
    "        for w in range(num_weeks):\n",
    "            depart_datetime = index_date + datetime.timedelta(weeks=w)\n",
    "            departs.append(depart_datetime.strftime('%Y-%m-%d'))\n",
    "            returns.append((depart_datetime+datetime.timedelta(days=trip_days)).strftime('%Y-%m-%d'))\n",
    "    else:\n",
    "        print(\"User Error: gave incomplete date information\")\n",
    "        return 0\n",
    "    \n",
    "    assert ((type(home) is str) and (type(destination) is str)), \"invalid value for home/destination\"\n",
    "    assert ((sort is None) or (sort in [\"price\", \"best\", \"time\"]))\n",
    "    sort_valid_values = {\n",
    "        None : \"bestflight_a\",\n",
    "        \"price\" : \"price_a\",\n",
    "        \"best\" :  \"bestflight_a\",\n",
    "        \"time\" : \"duration_a\"\n",
    "    }\n",
    "    \n",
    "    urls = []\n",
    "    for dep, ret in zip(departs, returns):\n",
    "        if flexible is None:\n",
    "            url = \"https://www.kayak.com/flights/%s-%s/%s/%s?sort=%s\" % (\n",
    "                        home, destination,\n",
    "                        dep, ret,\n",
    "                        sort_valid_values[sort])\n",
    "        else:\n",
    "            assert (flexible in [1,2,3]), \"invalid value for 'flexible'\"\n",
    "            url = \"https://www.kayak.com/flights/%s-%s/%s-flexible-%iday/%s-flexible-%iday?sort=%s\" % (\n",
    "                        home, destination, \n",
    "                        dep, flexible,\n",
    "                        ret, flexible,\n",
    "                        sort_valid_values[sort])\n",
    "        urls.append(url)\n",
    "    \n",
    "    return urls"
   ]
  },
  {
   "cell_type": "code",
   "execution_count": 10,
   "metadata": {
    "collapsed": true
   },
   "outputs": [],
   "source": [
    "def move_mouse(plot=False):\n",
    "    '''\n",
    "    https://stackoverflow.com/questions/39422453/human-like-mouse-movements-via-selenium\n",
    "    https://github.com/guilhermebferreira/selenium-notebooks/blob/master/Mouse%20move%20by%20b-spline%20interpolation.ipynb\n",
    "    '''\n",
    "    start_time = time.time()\n",
    "    \n",
    "    # set up curve\n",
    "    start = np.random.randint(-10,10+1,2) # STARTING LOCATION\n",
    "    my_points = [start]\n",
    "    length = np.random.randint(40,80) # NUMBER OF MOVEMENTS\n",
    "    for i in range(length//5):\n",
    "        new = my_points[-1] + np.random.randint(-200,200+1,2) # STEP SIZES\n",
    "        my_points.append(new)\n",
    "    my_points = np.array(my_points)\n",
    "    x = my_points[:,0]\n",
    "    y = my_points[:,1]\n",
    "    t = range(len(my_points))\n",
    "    ipl_t = np.linspace(0.0, len(my_points) - 1, length) # FINAL NUMBER OF MOVEMENTS\n",
    "    x_tup = si.splrep(t, x, k=3)\n",
    "    y_tup = si.splrep(t, y, k=3)\n",
    "    x_list = list(x_tup)\n",
    "    xl = x.tolist()\n",
    "    x_list[1] = xl + [0.0, 0.0, 0.0, 0.0]\n",
    "    y_list = list(y_tup)\n",
    "    yl = y.tolist()\n",
    "    y_list[1] = yl + [0.0, 0.0, 0.0, 0.0]\n",
    "    x_i = si.splev(ipl_t, x_list)\n",
    "    y_i = si.splev(ipl_t, y_list)\n",
    "    if plot:\n",
    "        import matplotlib.pyplot as plt\n",
    "        plt.scatter(start[0],start[1])\n",
    "        plt.plot(x_i,y_i)\n",
    "\n",
    "    #decide starting location\n",
    "    coin_flip = np.random.choice([\"by_code\",\"by_dealbutton\"])\n",
    "    if coin_flip == \"by_code\":\n",
    "        code = np.random.choice(['price','bestflight','duration'])\n",
    "        xpath = '//a[@data-code = \"%s\"]' % code\n",
    "        startElement = driver.find_element_by_xpath(xpath)\n",
    "    elif coin_flip == \"by_dealbutton\":\n",
    "        xpath = '//*[@class = \"booking-link\"]'\n",
    "        startElement = np.random.choice(driver.find_elements_by_xpath(xpath))\n",
    "    else:\n",
    "        print(\"whut, how?\")\n",
    "    action =  ActionChains(driver)\n",
    "    action.move_to_element(startElement)\n",
    "    try:\n",
    "        action.perform()\n",
    "    except:\n",
    "        print(\"failed to get to starting location\")\n",
    "        print(\"...%s - %s\" % (coin_flip, startElement.text))\n",
    "        sleep(5)\n",
    "    \n",
    "    # perform mouse movement\n",
    "    for m, (mouse_x, mouse_y) in enumerate(zip(x_i,y_i)):\n",
    "        if (plot) and (m%10==0): print(m)\n",
    "        try:\n",
    "            action.move_by_offset(mouse_x,mouse_y)\n",
    "            action.perform()\n",
    "        except Exception as e:\n",
    "            #print(mouse_x,mouse_y, e)\n",
    "            pass\n",
    "        sleep(np.random.random()*.1)\n",
    "    \n",
    "    print(\"mouse movements - %.2fsec\" % (time.time()-start_time))"
   ]
  },
  {
   "cell_type": "code",
   "execution_count": 14,
   "metadata": {
    "collapsed": true
   },
   "outputs": [],
   "source": [
    "def click_filter(attempt=0):\n",
    "    start_time = time.time()\n",
    "    \n",
    "    if attempt == 3:\n",
    "        print(\"refreshing page\")\n",
    "        driver.refresh()\n",
    "        rand_sleep(\"long\")\n",
    "        catch_popup()\n",
    "    elif attempt >= 6:\n",
    "        print(\"giving up, can't fix this\")\n",
    "        exit()\n",
    "    \n",
    "    xp_results_table = '//*[@class = \"filterSectionTitle\"]'\n",
    "    flight_containers = driver.find_elements_by_xpath(xp_results_table)\n",
    "    action =  ActionChains(driver)\n",
    "    i = np.random.randint(0,len(flight_containers))\n",
    "    try:    \n",
    "        action.move_to_element(flight_containers[i])\n",
    "        flight_containers[i].click()\n",
    "        print(\"success\")\n",
    "    except:\n",
    "        print(\"trying again\")\n",
    "        attempt += 1\n",
    "        click_filter(attempt)\n",
    "        return\n",
    "        \n",
    "    sleep(np.random.random()*5)\n",
    "    print(\"random clicking - %.2fsec\" % (time.time()-start_time))\n",
    "    return"
   ]
  },
  {
   "cell_type": "markdown",
   "metadata": {},
   "source": [
    "# Put it all together"
   ]
  },
  {
   "cell_type": "code",
   "execution_count": 12,
   "metadata": {},
   "outputs": [
    {
     "name": "stdout",
     "output_type": "stream",
     "text": [
      "initial page opened\n",
      "...sleeping for 2sec\n",
      "made to to reddit\n",
      "...sleeping for 9sec\n",
      "made it to comments\n",
      "...sleeping for 8sec\n",
      "STARTING NEW DESTINATION - TLV - 09:45:25.613695\n",
      "got to url\n",
      "...sleeping for 3sec\n",
      "...sleeping for 36sec\n",
      "...sleeping for 34sec\n",
      "trying again\n",
      "trying again\n",
      "trying again\n"
     ]
    },
    {
     "ename": "NameError",
     "evalue": "name 'rand' is not defined",
     "output_type": "error",
     "traceback": [
      "\u001b[1;31m---------------------------------------------------------------------------\u001b[0m",
      "\u001b[1;31mElementClickInterceptedException\u001b[0m          Traceback (most recent call last)",
      "\u001b[1;32m<ipython-input-11-305702773c24>\u001b[0m in \u001b[0;36mclick_filter\u001b[1;34m(attempt)\u001b[0m\n\u001b[0;32m     17\u001b[0m         \u001b[0maction\u001b[0m\u001b[1;33m.\u001b[0m\u001b[0mmove_to_element\u001b[0m\u001b[1;33m(\u001b[0m\u001b[0mflight_containers\u001b[0m\u001b[1;33m[\u001b[0m\u001b[0mi\u001b[0m\u001b[1;33m]\u001b[0m\u001b[1;33m)\u001b[0m\u001b[1;33m\u001b[0m\u001b[1;33m\u001b[0m\u001b[0m\n\u001b[1;32m---> 18\u001b[1;33m         \u001b[0mflight_containers\u001b[0m\u001b[1;33m[\u001b[0m\u001b[0mi\u001b[0m\u001b[1;33m]\u001b[0m\u001b[1;33m.\u001b[0m\u001b[0mclick\u001b[0m\u001b[1;33m(\u001b[0m\u001b[1;33m)\u001b[0m\u001b[1;33m\u001b[0m\u001b[1;33m\u001b[0m\u001b[0m\n\u001b[0m\u001b[0;32m     19\u001b[0m         \u001b[0mprint\u001b[0m\u001b[1;33m(\u001b[0m\u001b[1;34m\"success\"\u001b[0m\u001b[1;33m)\u001b[0m\u001b[1;33m\u001b[0m\u001b[1;33m\u001b[0m\u001b[0m\n",
      "\u001b[1;32m~\\Anaconda3\\lib\\site-packages\\selenium\\webdriver\\remote\\webelement.py\u001b[0m in \u001b[0;36mclick\u001b[1;34m(self)\u001b[0m\n\u001b[0;32m     79\u001b[0m         \u001b[1;34m\"\"\"Clicks the element.\"\"\"\u001b[0m\u001b[1;33m\u001b[0m\u001b[1;33m\u001b[0m\u001b[0m\n\u001b[1;32m---> 80\u001b[1;33m         \u001b[0mself\u001b[0m\u001b[1;33m.\u001b[0m\u001b[0m_execute\u001b[0m\u001b[1;33m(\u001b[0m\u001b[0mCommand\u001b[0m\u001b[1;33m.\u001b[0m\u001b[0mCLICK_ELEMENT\u001b[0m\u001b[1;33m)\u001b[0m\u001b[1;33m\u001b[0m\u001b[1;33m\u001b[0m\u001b[0m\n\u001b[0m\u001b[0;32m     81\u001b[0m \u001b[1;33m\u001b[0m\u001b[0m\n",
      "\u001b[1;32m~\\Anaconda3\\lib\\site-packages\\selenium\\webdriver\\remote\\webelement.py\u001b[0m in \u001b[0;36m_execute\u001b[1;34m(self, command, params)\u001b[0m\n\u001b[0;32m    632\u001b[0m         \u001b[0mparams\u001b[0m\u001b[1;33m[\u001b[0m\u001b[1;34m'id'\u001b[0m\u001b[1;33m]\u001b[0m \u001b[1;33m=\u001b[0m \u001b[0mself\u001b[0m\u001b[1;33m.\u001b[0m\u001b[0m_id\u001b[0m\u001b[1;33m\u001b[0m\u001b[1;33m\u001b[0m\u001b[0m\n\u001b[1;32m--> 633\u001b[1;33m         \u001b[1;32mreturn\u001b[0m \u001b[0mself\u001b[0m\u001b[1;33m.\u001b[0m\u001b[0m_parent\u001b[0m\u001b[1;33m.\u001b[0m\u001b[0mexecute\u001b[0m\u001b[1;33m(\u001b[0m\u001b[0mcommand\u001b[0m\u001b[1;33m,\u001b[0m \u001b[0mparams\u001b[0m\u001b[1;33m)\u001b[0m\u001b[1;33m\u001b[0m\u001b[1;33m\u001b[0m\u001b[0m\n\u001b[0m\u001b[0;32m    634\u001b[0m \u001b[1;33m\u001b[0m\u001b[0m\n",
      "\u001b[1;32m~\\Anaconda3\\lib\\site-packages\\selenium\\webdriver\\remote\\webdriver.py\u001b[0m in \u001b[0;36mexecute\u001b[1;34m(self, driver_command, params)\u001b[0m\n\u001b[0;32m    320\u001b[0m         \u001b[1;32mif\u001b[0m \u001b[0mresponse\u001b[0m\u001b[1;33m:\u001b[0m\u001b[1;33m\u001b[0m\u001b[1;33m\u001b[0m\u001b[0m\n\u001b[1;32m--> 321\u001b[1;33m             \u001b[0mself\u001b[0m\u001b[1;33m.\u001b[0m\u001b[0merror_handler\u001b[0m\u001b[1;33m.\u001b[0m\u001b[0mcheck_response\u001b[0m\u001b[1;33m(\u001b[0m\u001b[0mresponse\u001b[0m\u001b[1;33m)\u001b[0m\u001b[1;33m\u001b[0m\u001b[1;33m\u001b[0m\u001b[0m\n\u001b[0m\u001b[0;32m    322\u001b[0m             response['value'] = self._unwrap_value(\n",
      "\u001b[1;32m~\\Anaconda3\\lib\\site-packages\\selenium\\webdriver\\remote\\errorhandler.py\u001b[0m in \u001b[0;36mcheck_response\u001b[1;34m(self, response)\u001b[0m\n\u001b[0;32m    241\u001b[0m             \u001b[1;32mraise\u001b[0m \u001b[0mexception_class\u001b[0m\u001b[1;33m(\u001b[0m\u001b[0mmessage\u001b[0m\u001b[1;33m,\u001b[0m \u001b[0mscreen\u001b[0m\u001b[1;33m,\u001b[0m \u001b[0mstacktrace\u001b[0m\u001b[1;33m,\u001b[0m \u001b[0malert_text\u001b[0m\u001b[1;33m)\u001b[0m\u001b[1;33m\u001b[0m\u001b[1;33m\u001b[0m\u001b[0m\n\u001b[1;32m--> 242\u001b[1;33m         \u001b[1;32mraise\u001b[0m \u001b[0mexception_class\u001b[0m\u001b[1;33m(\u001b[0m\u001b[0mmessage\u001b[0m\u001b[1;33m,\u001b[0m \u001b[0mscreen\u001b[0m\u001b[1;33m,\u001b[0m \u001b[0mstacktrace\u001b[0m\u001b[1;33m)\u001b[0m\u001b[1;33m\u001b[0m\u001b[1;33m\u001b[0m\u001b[0m\n\u001b[0m\u001b[0;32m    243\u001b[0m \u001b[1;33m\u001b[0m\u001b[0m\n",
      "\u001b[1;31mElementClickInterceptedException\u001b[0m: Message: element click intercepted: Element <div id=\"G5hR-filter-title\" class=\"filterSectionTitle\" tabindex=\"0\" role=\"button\" aria-pressed=\"false\" aria-expanded=\"false\" aria-controls=\"G5hR-filter-filterContent\">...</div> is not clickable at point (140, 440). Other element would receive the click: <div id=\"W151-dialog-viewport\" class=\"viewport\">...</div>\n  (Session info: chrome=75.0.3770.142)\n",
      "\nDuring handling of the above exception, another exception occurred:\n",
      "\u001b[1;31mElementClickInterceptedException\u001b[0m          Traceback (most recent call last)",
      "\u001b[1;32m<ipython-input-11-305702773c24>\u001b[0m in \u001b[0;36mclick_filter\u001b[1;34m(attempt)\u001b[0m\n\u001b[0;32m     17\u001b[0m         \u001b[0maction\u001b[0m\u001b[1;33m.\u001b[0m\u001b[0mmove_to_element\u001b[0m\u001b[1;33m(\u001b[0m\u001b[0mflight_containers\u001b[0m\u001b[1;33m[\u001b[0m\u001b[0mi\u001b[0m\u001b[1;33m]\u001b[0m\u001b[1;33m)\u001b[0m\u001b[1;33m\u001b[0m\u001b[1;33m\u001b[0m\u001b[0m\n\u001b[1;32m---> 18\u001b[1;33m         \u001b[0mflight_containers\u001b[0m\u001b[1;33m[\u001b[0m\u001b[0mi\u001b[0m\u001b[1;33m]\u001b[0m\u001b[1;33m.\u001b[0m\u001b[0mclick\u001b[0m\u001b[1;33m(\u001b[0m\u001b[1;33m)\u001b[0m\u001b[1;33m\u001b[0m\u001b[1;33m\u001b[0m\u001b[0m\n\u001b[0m\u001b[0;32m     19\u001b[0m         \u001b[0mprint\u001b[0m\u001b[1;33m(\u001b[0m\u001b[1;34m\"success\"\u001b[0m\u001b[1;33m)\u001b[0m\u001b[1;33m\u001b[0m\u001b[1;33m\u001b[0m\u001b[0m\n",
      "\u001b[1;32m~\\Anaconda3\\lib\\site-packages\\selenium\\webdriver\\remote\\webelement.py\u001b[0m in \u001b[0;36mclick\u001b[1;34m(self)\u001b[0m\n\u001b[0;32m     79\u001b[0m         \u001b[1;34m\"\"\"Clicks the element.\"\"\"\u001b[0m\u001b[1;33m\u001b[0m\u001b[1;33m\u001b[0m\u001b[0m\n\u001b[1;32m---> 80\u001b[1;33m         \u001b[0mself\u001b[0m\u001b[1;33m.\u001b[0m\u001b[0m_execute\u001b[0m\u001b[1;33m(\u001b[0m\u001b[0mCommand\u001b[0m\u001b[1;33m.\u001b[0m\u001b[0mCLICK_ELEMENT\u001b[0m\u001b[1;33m)\u001b[0m\u001b[1;33m\u001b[0m\u001b[1;33m\u001b[0m\u001b[0m\n\u001b[0m\u001b[0;32m     81\u001b[0m \u001b[1;33m\u001b[0m\u001b[0m\n",
      "\u001b[1;32m~\\Anaconda3\\lib\\site-packages\\selenium\\webdriver\\remote\\webelement.py\u001b[0m in \u001b[0;36m_execute\u001b[1;34m(self, command, params)\u001b[0m\n\u001b[0;32m    632\u001b[0m         \u001b[0mparams\u001b[0m\u001b[1;33m[\u001b[0m\u001b[1;34m'id'\u001b[0m\u001b[1;33m]\u001b[0m \u001b[1;33m=\u001b[0m \u001b[0mself\u001b[0m\u001b[1;33m.\u001b[0m\u001b[0m_id\u001b[0m\u001b[1;33m\u001b[0m\u001b[1;33m\u001b[0m\u001b[0m\n\u001b[1;32m--> 633\u001b[1;33m         \u001b[1;32mreturn\u001b[0m \u001b[0mself\u001b[0m\u001b[1;33m.\u001b[0m\u001b[0m_parent\u001b[0m\u001b[1;33m.\u001b[0m\u001b[0mexecute\u001b[0m\u001b[1;33m(\u001b[0m\u001b[0mcommand\u001b[0m\u001b[1;33m,\u001b[0m \u001b[0mparams\u001b[0m\u001b[1;33m)\u001b[0m\u001b[1;33m\u001b[0m\u001b[1;33m\u001b[0m\u001b[0m\n\u001b[0m\u001b[0;32m    634\u001b[0m \u001b[1;33m\u001b[0m\u001b[0m\n",
      "\u001b[1;32m~\\Anaconda3\\lib\\site-packages\\selenium\\webdriver\\remote\\webdriver.py\u001b[0m in \u001b[0;36mexecute\u001b[1;34m(self, driver_command, params)\u001b[0m\n\u001b[0;32m    320\u001b[0m         \u001b[1;32mif\u001b[0m \u001b[0mresponse\u001b[0m\u001b[1;33m:\u001b[0m\u001b[1;33m\u001b[0m\u001b[1;33m\u001b[0m\u001b[0m\n\u001b[1;32m--> 321\u001b[1;33m             \u001b[0mself\u001b[0m\u001b[1;33m.\u001b[0m\u001b[0merror_handler\u001b[0m\u001b[1;33m.\u001b[0m\u001b[0mcheck_response\u001b[0m\u001b[1;33m(\u001b[0m\u001b[0mresponse\u001b[0m\u001b[1;33m)\u001b[0m\u001b[1;33m\u001b[0m\u001b[1;33m\u001b[0m\u001b[0m\n\u001b[0m\u001b[0;32m    322\u001b[0m             response['value'] = self._unwrap_value(\n",
      "\u001b[1;32m~\\Anaconda3\\lib\\site-packages\\selenium\\webdriver\\remote\\errorhandler.py\u001b[0m in \u001b[0;36mcheck_response\u001b[1;34m(self, response)\u001b[0m\n\u001b[0;32m    241\u001b[0m             \u001b[1;32mraise\u001b[0m \u001b[0mexception_class\u001b[0m\u001b[1;33m(\u001b[0m\u001b[0mmessage\u001b[0m\u001b[1;33m,\u001b[0m \u001b[0mscreen\u001b[0m\u001b[1;33m,\u001b[0m \u001b[0mstacktrace\u001b[0m\u001b[1;33m,\u001b[0m \u001b[0malert_text\u001b[0m\u001b[1;33m)\u001b[0m\u001b[1;33m\u001b[0m\u001b[1;33m\u001b[0m\u001b[0m\n\u001b[1;32m--> 242\u001b[1;33m         \u001b[1;32mraise\u001b[0m \u001b[0mexception_class\u001b[0m\u001b[1;33m(\u001b[0m\u001b[0mmessage\u001b[0m\u001b[1;33m,\u001b[0m \u001b[0mscreen\u001b[0m\u001b[1;33m,\u001b[0m \u001b[0mstacktrace\u001b[0m\u001b[1;33m)\u001b[0m\u001b[1;33m\u001b[0m\u001b[1;33m\u001b[0m\u001b[0m\n\u001b[0m\u001b[0;32m    243\u001b[0m \u001b[1;33m\u001b[0m\u001b[0m\n",
      "\u001b[1;31mElementClickInterceptedException\u001b[0m: Message: element click intercepted: Element <div id=\"u_O1-equipment-section-title\" class=\"filterSectionTitle\" tabindex=\"0\" role=\"button\" aria-pressed=\"false\" aria-expanded=\"false\" aria-controls=\"u_O1-equipment-section-filterContent\">...</div> is not clickable at point (140, 859). Other element would receive the click: <div id=\"W151-dialog-viewport\" class=\"viewport\">...</div>\n  (Session info: chrome=75.0.3770.142)\n",
      "\nDuring handling of the above exception, another exception occurred:\n",
      "\u001b[1;31mElementClickInterceptedException\u001b[0m          Traceback (most recent call last)",
      "\u001b[1;32m<ipython-input-11-305702773c24>\u001b[0m in \u001b[0;36mclick_filter\u001b[1;34m(attempt)\u001b[0m\n\u001b[0;32m     17\u001b[0m         \u001b[0maction\u001b[0m\u001b[1;33m.\u001b[0m\u001b[0mmove_to_element\u001b[0m\u001b[1;33m(\u001b[0m\u001b[0mflight_containers\u001b[0m\u001b[1;33m[\u001b[0m\u001b[0mi\u001b[0m\u001b[1;33m]\u001b[0m\u001b[1;33m)\u001b[0m\u001b[1;33m\u001b[0m\u001b[1;33m\u001b[0m\u001b[0m\n\u001b[1;32m---> 18\u001b[1;33m         \u001b[0mflight_containers\u001b[0m\u001b[1;33m[\u001b[0m\u001b[0mi\u001b[0m\u001b[1;33m]\u001b[0m\u001b[1;33m.\u001b[0m\u001b[0mclick\u001b[0m\u001b[1;33m(\u001b[0m\u001b[1;33m)\u001b[0m\u001b[1;33m\u001b[0m\u001b[1;33m\u001b[0m\u001b[0m\n\u001b[0m\u001b[0;32m     19\u001b[0m         \u001b[0mprint\u001b[0m\u001b[1;33m(\u001b[0m\u001b[1;34m\"success\"\u001b[0m\u001b[1;33m)\u001b[0m\u001b[1;33m\u001b[0m\u001b[1;33m\u001b[0m\u001b[0m\n",
      "\u001b[1;32m~\\Anaconda3\\lib\\site-packages\\selenium\\webdriver\\remote\\webelement.py\u001b[0m in \u001b[0;36mclick\u001b[1;34m(self)\u001b[0m\n\u001b[0;32m     79\u001b[0m         \u001b[1;34m\"\"\"Clicks the element.\"\"\"\u001b[0m\u001b[1;33m\u001b[0m\u001b[1;33m\u001b[0m\u001b[0m\n\u001b[1;32m---> 80\u001b[1;33m         \u001b[0mself\u001b[0m\u001b[1;33m.\u001b[0m\u001b[0m_execute\u001b[0m\u001b[1;33m(\u001b[0m\u001b[0mCommand\u001b[0m\u001b[1;33m.\u001b[0m\u001b[0mCLICK_ELEMENT\u001b[0m\u001b[1;33m)\u001b[0m\u001b[1;33m\u001b[0m\u001b[1;33m\u001b[0m\u001b[0m\n\u001b[0m\u001b[0;32m     81\u001b[0m \u001b[1;33m\u001b[0m\u001b[0m\n",
      "\u001b[1;32m~\\Anaconda3\\lib\\site-packages\\selenium\\webdriver\\remote\\webelement.py\u001b[0m in \u001b[0;36m_execute\u001b[1;34m(self, command, params)\u001b[0m\n\u001b[0;32m    632\u001b[0m         \u001b[0mparams\u001b[0m\u001b[1;33m[\u001b[0m\u001b[1;34m'id'\u001b[0m\u001b[1;33m]\u001b[0m \u001b[1;33m=\u001b[0m \u001b[0mself\u001b[0m\u001b[1;33m.\u001b[0m\u001b[0m_id\u001b[0m\u001b[1;33m\u001b[0m\u001b[1;33m\u001b[0m\u001b[0m\n\u001b[1;32m--> 633\u001b[1;33m         \u001b[1;32mreturn\u001b[0m \u001b[0mself\u001b[0m\u001b[1;33m.\u001b[0m\u001b[0m_parent\u001b[0m\u001b[1;33m.\u001b[0m\u001b[0mexecute\u001b[0m\u001b[1;33m(\u001b[0m\u001b[0mcommand\u001b[0m\u001b[1;33m,\u001b[0m \u001b[0mparams\u001b[0m\u001b[1;33m)\u001b[0m\u001b[1;33m\u001b[0m\u001b[1;33m\u001b[0m\u001b[0m\n\u001b[0m\u001b[0;32m    634\u001b[0m \u001b[1;33m\u001b[0m\u001b[0m\n",
      "\u001b[1;32m~\\Anaconda3\\lib\\site-packages\\selenium\\webdriver\\remote\\webdriver.py\u001b[0m in \u001b[0;36mexecute\u001b[1;34m(self, driver_command, params)\u001b[0m\n\u001b[0;32m    320\u001b[0m         \u001b[1;32mif\u001b[0m \u001b[0mresponse\u001b[0m\u001b[1;33m:\u001b[0m\u001b[1;33m\u001b[0m\u001b[1;33m\u001b[0m\u001b[0m\n\u001b[1;32m--> 321\u001b[1;33m             \u001b[0mself\u001b[0m\u001b[1;33m.\u001b[0m\u001b[0merror_handler\u001b[0m\u001b[1;33m.\u001b[0m\u001b[0mcheck_response\u001b[0m\u001b[1;33m(\u001b[0m\u001b[0mresponse\u001b[0m\u001b[1;33m)\u001b[0m\u001b[1;33m\u001b[0m\u001b[1;33m\u001b[0m\u001b[0m\n\u001b[0m\u001b[0;32m    322\u001b[0m             response['value'] = self._unwrap_value(\n",
      "\u001b[1;32m~\\Anaconda3\\lib\\site-packages\\selenium\\webdriver\\remote\\errorhandler.py\u001b[0m in \u001b[0;36mcheck_response\u001b[1;34m(self, response)\u001b[0m\n\u001b[0;32m    241\u001b[0m             \u001b[1;32mraise\u001b[0m \u001b[0mexception_class\u001b[0m\u001b[1;33m(\u001b[0m\u001b[0mmessage\u001b[0m\u001b[1;33m,\u001b[0m \u001b[0mscreen\u001b[0m\u001b[1;33m,\u001b[0m \u001b[0mstacktrace\u001b[0m\u001b[1;33m,\u001b[0m \u001b[0malert_text\u001b[0m\u001b[1;33m)\u001b[0m\u001b[1;33m\u001b[0m\u001b[1;33m\u001b[0m\u001b[0m\n\u001b[1;32m--> 242\u001b[1;33m         \u001b[1;32mraise\u001b[0m \u001b[0mexception_class\u001b[0m\u001b[1;33m(\u001b[0m\u001b[0mmessage\u001b[0m\u001b[1;33m,\u001b[0m \u001b[0mscreen\u001b[0m\u001b[1;33m,\u001b[0m \u001b[0mstacktrace\u001b[0m\u001b[1;33m)\u001b[0m\u001b[1;33m\u001b[0m\u001b[1;33m\u001b[0m\u001b[0m\n\u001b[0m\u001b[0;32m    243\u001b[0m \u001b[1;33m\u001b[0m\u001b[0m\n",
      "\u001b[1;31mElementClickInterceptedException\u001b[0m: Message: element click intercepted: Element <div id=\"u_O1-legdur-title\" class=\"filterSectionTitle\">...</div> is not clickable at point (140, 446). Other element would receive the click: <div id=\"W151-dialog-viewport\" class=\"viewport\">...</div>\n  (Session info: chrome=75.0.3770.142)\n",
      "\nDuring handling of the above exception, another exception occurred:\n",
      "\u001b[1;31mNameError\u001b[0m                                 Traceback (most recent call last)",
      "\u001b[1;32m<ipython-input-12-117da071ecef>\u001b[0m in \u001b[0;36m<module>\u001b[1;34m\u001b[0m\n\u001b[0;32m     18\u001b[0m         \u001b[0mcatch_popup\u001b[0m\u001b[1;33m(\u001b[0m\u001b[1;33m)\u001b[0m\u001b[1;33m\u001b[0m\u001b[1;33m\u001b[0m\u001b[0m\n\u001b[0;32m     19\u001b[0m         \u001b[0mrand_sleep\u001b[0m\u001b[1;33m(\u001b[0m\u001b[1;34m\"long\"\u001b[0m\u001b[1;33m)\u001b[0m\u001b[1;33m\u001b[0m\u001b[1;33m\u001b[0m\u001b[0m\n\u001b[1;32m---> 20\u001b[1;33m         \u001b[0mclick_filter\u001b[0m\u001b[1;33m(\u001b[0m\u001b[1;33m)\u001b[0m\u001b[1;33m\u001b[0m\u001b[1;33m\u001b[0m\u001b[0m\n\u001b[0m\u001b[0;32m     21\u001b[0m         \u001b[0mrand_sleep\u001b[0m\u001b[1;33m(\u001b[0m\u001b[1;34m\"minutes\"\u001b[0m\u001b[1;33m)\u001b[0m\u001b[1;33m\u001b[0m\u001b[1;33m\u001b[0m\u001b[0m\n\u001b[0;32m     22\u001b[0m         \u001b[0mmove_mouse\u001b[0m\u001b[1;33m(\u001b[0m\u001b[1;33m)\u001b[0m\u001b[1;33m\u001b[0m\u001b[1;33m\u001b[0m\u001b[0m\n",
      "\u001b[1;32m<ipython-input-11-305702773c24>\u001b[0m in \u001b[0;36mclick_filter\u001b[1;34m(attempt)\u001b[0m\n\u001b[0;32m     21\u001b[0m         \u001b[0mprint\u001b[0m\u001b[1;33m(\u001b[0m\u001b[1;34m\"trying again\"\u001b[0m\u001b[1;33m)\u001b[0m\u001b[1;33m\u001b[0m\u001b[1;33m\u001b[0m\u001b[0m\n\u001b[0;32m     22\u001b[0m         \u001b[0mattempt\u001b[0m \u001b[1;33m+=\u001b[0m \u001b[1;36m1\u001b[0m\u001b[1;33m\u001b[0m\u001b[1;33m\u001b[0m\u001b[0m\n\u001b[1;32m---> 23\u001b[1;33m         \u001b[0mclick_filter\u001b[0m\u001b[1;33m(\u001b[0m\u001b[0mattempt\u001b[0m\u001b[1;33m)\u001b[0m\u001b[1;33m\u001b[0m\u001b[1;33m\u001b[0m\u001b[0m\n\u001b[0m\u001b[0;32m     24\u001b[0m         \u001b[1;32mreturn\u001b[0m\u001b[1;33m\u001b[0m\u001b[1;33m\u001b[0m\u001b[0m\n\u001b[0;32m     25\u001b[0m \u001b[1;33m\u001b[0m\u001b[0m\n",
      "\u001b[1;32m<ipython-input-11-305702773c24>\u001b[0m in \u001b[0;36mclick_filter\u001b[1;34m(attempt)\u001b[0m\n\u001b[0;32m     21\u001b[0m         \u001b[0mprint\u001b[0m\u001b[1;33m(\u001b[0m\u001b[1;34m\"trying again\"\u001b[0m\u001b[1;33m)\u001b[0m\u001b[1;33m\u001b[0m\u001b[1;33m\u001b[0m\u001b[0m\n\u001b[0;32m     22\u001b[0m         \u001b[0mattempt\u001b[0m \u001b[1;33m+=\u001b[0m \u001b[1;36m1\u001b[0m\u001b[1;33m\u001b[0m\u001b[1;33m\u001b[0m\u001b[0m\n\u001b[1;32m---> 23\u001b[1;33m         \u001b[0mclick_filter\u001b[0m\u001b[1;33m(\u001b[0m\u001b[0mattempt\u001b[0m\u001b[1;33m)\u001b[0m\u001b[1;33m\u001b[0m\u001b[1;33m\u001b[0m\u001b[0m\n\u001b[0m\u001b[0;32m     24\u001b[0m         \u001b[1;32mreturn\u001b[0m\u001b[1;33m\u001b[0m\u001b[1;33m\u001b[0m\u001b[0m\n\u001b[0;32m     25\u001b[0m \u001b[1;33m\u001b[0m\u001b[0m\n",
      "\u001b[1;32m<ipython-input-11-305702773c24>\u001b[0m in \u001b[0;36mclick_filter\u001b[1;34m(attempt)\u001b[0m\n\u001b[0;32m     21\u001b[0m         \u001b[0mprint\u001b[0m\u001b[1;33m(\u001b[0m\u001b[1;34m\"trying again\"\u001b[0m\u001b[1;33m)\u001b[0m\u001b[1;33m\u001b[0m\u001b[1;33m\u001b[0m\u001b[0m\n\u001b[0;32m     22\u001b[0m         \u001b[0mattempt\u001b[0m \u001b[1;33m+=\u001b[0m \u001b[1;36m1\u001b[0m\u001b[1;33m\u001b[0m\u001b[1;33m\u001b[0m\u001b[0m\n\u001b[1;32m---> 23\u001b[1;33m         \u001b[0mclick_filter\u001b[0m\u001b[1;33m(\u001b[0m\u001b[0mattempt\u001b[0m\u001b[1;33m)\u001b[0m\u001b[1;33m\u001b[0m\u001b[1;33m\u001b[0m\u001b[0m\n\u001b[0m\u001b[0;32m     24\u001b[0m         \u001b[1;32mreturn\u001b[0m\u001b[1;33m\u001b[0m\u001b[1;33m\u001b[0m\u001b[0m\n\u001b[0;32m     25\u001b[0m \u001b[1;33m\u001b[0m\u001b[0m\n",
      "\u001b[1;32m<ipython-input-11-305702773c24>\u001b[0m in \u001b[0;36mclick_filter\u001b[1;34m(attempt)\u001b[0m\n\u001b[0;32m      4\u001b[0m     \u001b[1;32mif\u001b[0m \u001b[0mattempt\u001b[0m \u001b[1;33m==\u001b[0m \u001b[1;36m3\u001b[0m\u001b[1;33m:\u001b[0m\u001b[1;33m\u001b[0m\u001b[1;33m\u001b[0m\u001b[0m\n\u001b[0;32m      5\u001b[0m         \u001b[0mdriver\u001b[0m\u001b[1;33m.\u001b[0m\u001b[0mrefresh\u001b[0m\u001b[1;33m(\u001b[0m\u001b[1;33m)\u001b[0m\u001b[1;33m\u001b[0m\u001b[1;33m\u001b[0m\u001b[0m\n\u001b[1;32m----> 6\u001b[1;33m         \u001b[0mrand\u001b[0m\u001b[1;33m.\u001b[0m\u001b[0msleep\u001b[0m\u001b[1;33m(\u001b[0m\u001b[1;34m\"long\"\u001b[0m\u001b[1;33m)\u001b[0m\u001b[1;33m\u001b[0m\u001b[1;33m\u001b[0m\u001b[0m\n\u001b[0m\u001b[0;32m      7\u001b[0m         \u001b[0mcatch_popup\u001b[0m\u001b[1;33m(\u001b[0m\u001b[1;33m)\u001b[0m\u001b[1;33m\u001b[0m\u001b[1;33m\u001b[0m\u001b[0m\n\u001b[0;32m      8\u001b[0m     \u001b[1;32melif\u001b[0m \u001b[0mattempt\u001b[0m \u001b[1;33m>=\u001b[0m \u001b[1;36m6\u001b[0m\u001b[1;33m:\u001b[0m\u001b[1;33m\u001b[0m\u001b[1;33m\u001b[0m\u001b[0m\n",
      "\u001b[1;31mNameError\u001b[0m: name 'rand' is not defined"
     ]
    }
   ],
   "source": [
    "driver = set_up()\n",
    "\n",
    "home = \"ATL\"\n",
    "for destination in [\"TLV\"]:\n",
    "    data_list = []\n",
    "    urls= build_kayak_link(home=\"ATL\", destination=destination,\n",
    "                           depart_date=None, return_date=None,\n",
    "                           depart_dow=\"Friday\", return_dow=\"Monday\", num_weeks=9, buffer=3,\n",
    "                           flexible=1,\n",
    "                           sort=\"best\")\n",
    "    go_home()\n",
    "    print(\"STARTING NEW DESTINATION - %s - %s\" % (destination, datetime.datetime.now().time()))\n",
    "    for url in urls:\n",
    "        status = get_to_url(url, debug=True)\n",
    "        if status == \"FAILED\":\n",
    "            break\n",
    "        catch_popup()\n",
    "        rand_sleep(\"long\")\n",
    "        click_filter()\n",
    "        move_mouse()\n",
    "        # SCRAPE DATA\n",
    "        data_list += scrape_page(home, destination)\n",
    "        '''\n",
    "        for code in [\"price\",\"duration\"]: # should have started with bestflight\n",
    "            xpath = '//a[@data-code = \"%s\"]' % code\n",
    "            driver.find_element_by_xpath(xpath).click()\n",
    "            # SCRAPE DATA\n",
    "            data_list += scrape_page(home, destination)\n",
    "            move_mouse()'''\n",
    "        rand_sleep(\"minutes\")\n",
    "        coin_flip = np.random.random()\n",
    "        if coin_flip <= 0.0:\n",
    "            go_home()\n",
    "        else:\n",
    "            move_mouse()\n",
    "            #rand_sleep(\"minutes\")\n",
    "            pass\n",
    "        \n",
    "    csv = write_data(data_list, home, destination)\n",
    "    plot_data(csv)"
   ]
  },
  {
   "cell_type": "code",
   "execution_count": 18,
   "metadata": {
    "scrolled": true
   },
   "outputs": [
    {
     "name": "stdout",
     "output_type": "stream",
     "text": [
      "mouse movements - 13.29sec\n",
      "no pop up\n",
      "finished url scraping\n"
     ]
    }
   ],
   "source": [
    "move_mouse()\n",
    "# SCRAPE DATA\n",
    "data_list += scrape_page(home, destination)"
   ]
  },
  {
   "cell_type": "code",
   "execution_count": 26,
   "metadata": {},
   "outputs": [
    {
     "name": "stdout",
     "output_type": "stream",
     "text": [
      "got to url\n",
      "...sleeping for 3sec\n",
      "caught pop up\n",
      "...sleeping for 2sec\n",
      "...sleeping for 41sec\n",
      "success\n",
      "random clicking - 1.65sec\n",
      "mouse movements - 43.48sec\n",
      "no pop up\n",
      "finished url scraping\n",
      "...sleeping for 214sec\n",
      "mouse movements - 23.22sec\n"
     ]
    }
   ],
   "source": [
    "for url in urls[5:]:\n",
    "    status = get_to_url(url, debug=True)\n",
    "    if status == \"FAILED\":\n",
    "        break\n",
    "    catch_popup()\n",
    "    rand_sleep(\"long\")\n",
    "    click_filter()\n",
    "    move_mouse()\n",
    "    # SCRAPE DATA\n",
    "    data_list += scrape_page(home, destination)\n",
    "    '''\n",
    "    for code in [\"price\",\"duration\"]: # should have started with bestflight\n",
    "        xpath = '//a[@data-code = \"%s\"]' % code\n",
    "        driver.find_element_by_xpath(xpath).click()\n",
    "        # SCRAPE DATA\n",
    "        data_list += scrape_page(home, destination)\n",
    "        move_mouse()'''\n",
    "    rand_sleep(\"minutes\")\n",
    "    coin_flip = np.random.random()\n",
    "    if coin_flip <= 0.0:\n",
    "        go_home()\n",
    "    else:\n",
    "        move_mouse()\n",
    "        #rand_sleep(\"minutes\")\n",
    "        pass"
   ]
  },
  {
   "cell_type": "code",
   "execution_count": 29,
   "metadata": {},
   "outputs": [
    {
     "data": {
      "text/plain": [
       "85"
      ]
     },
     "execution_count": 29,
     "metadata": {},
     "output_type": "execute_result"
    }
   ],
   "source": []
  },
  {
   "cell_type": "markdown",
   "metadata": {},
   "source": [
    "# Testbed"
   ]
  },
  {
   "cell_type": "code",
   "execution_count": null,
   "metadata": {
    "collapsed": true
   },
   "outputs": [],
   "source": [
    "#driver = set_up()\n",
    "\n",
    "#go_home()\n",
    "\n",
    "url = \"https://www.kayak.com/flights/ATL-TLV/2019-08-09-flexible-1day/2019-08-12-flexible-1day?sort=bestflight_a\"\n",
    "status = get_to_url(url, debug=True)\n",
    "catch_popup()\n",
    "rand_sleep(\"minutes\")"
   ]
  },
  {
   "cell_type": "code",
   "execution_count": null,
   "metadata": {
    "collapsed": true
   },
   "outputs": [],
   "source": [
    "home=\"ATL\"\n",
    "destination=\"TLV\"\n",
    "data = scrape_page(home, destination)\n",
    "print(len(data))\n",
    "move_mouse()\n",
    "for code in [\"price\",\"duration\"]: # should have started with bestflight\n",
    "    xpath = '//a[@data-code = \"%s\"]' % code\n",
    "    driver.find_element_by_xpath(xpath).click()\n",
    "    rand_sleep()\n",
    "    # SCRAPE DATA\n",
    "    data = scrape_page(home, destination)\n",
    "    print(len(data))\n",
    "    move_mouse()\n",
    "go_home()"
   ]
  },
  {
   "cell_type": "code",
   "execution_count": null,
   "metadata": {
    "collapsed": true
   },
   "outputs": [],
   "source": [
    "catch_popup()"
   ]
  },
  {
   "cell_type": "markdown",
   "metadata": {},
   "source": [
    "# Post process data\n",
    "okay so now we have a list of dictionaries for each destination...package the data into csv"
   ]
  },
  {
   "cell_type": "code",
   "execution_count": 43,
   "metadata": {
    "collapsed": true
   },
   "outputs": [],
   "source": [
    "def write_data(data_list, home, destination):\n",
    "    csv = \"data/%s_%s.csv\" % (home,destination)\n",
    "    if os.path.exists(csv):\n",
    "        write_mode = \"a\"\n",
    "        write_header = False\n",
    "    else:\n",
    "        write_mode = \"w\"\n",
    "        write_header = True\n",
    "\n",
    "    df = pd.DataFrame(data_list)\n",
    "    df['Parsed Date'] = datetime.datetime.now()\n",
    "    df.to_csv(csv, header=write_header, index=False, mode=write_mode)\n",
    "    print(\"successfully wrote data to file\")\n",
    "    \n",
    "    return csv"
   ]
  },
  {
   "cell_type": "code",
   "execution_count": 45,
   "metadata": {
    "collapsed": true
   },
   "outputs": [],
   "source": [
    "import os"
   ]
  },
  {
   "cell_type": "code",
   "execution_count": 46,
   "metadata": {},
   "outputs": [
    {
     "name": "stdout",
     "output_type": "stream",
     "text": [
      "successfully wrote data to file\n"
     ]
    },
    {
     "data": {
      "text/plain": [
       "'data/ATL_TLV.csv'"
      ]
     },
     "execution_count": 46,
     "metadata": {},
     "output_type": "execute_result"
    }
   ],
   "source": [
    "csv = write_data(data_list,home,destination)"
   ]
  },
  {
   "cell_type": "code",
   "execution_count": 87,
   "metadata": {},
   "outputs": [
    {
     "data": {
      "text/html": [
       "<div>\n",
       "<style scoped>\n",
       "    .dataframe tbody tr th:only-of-type {\n",
       "        vertical-align: middle;\n",
       "    }\n",
       "\n",
       "    .dataframe tbody tr th {\n",
       "        vertical-align: top;\n",
       "    }\n",
       "\n",
       "    .dataframe thead th {\n",
       "        text-align: right;\n",
       "    }\n",
       "</style>\n",
       "<table border=\"1\" class=\"dataframe\">\n",
       "  <thead>\n",
       "    <tr style=\"text-align: right;\">\n",
       "      <th></th>\n",
       "      <th>Carrier</th>\n",
       "      <th>Depart DateTimeStr</th>\n",
       "      <th>Depart Duration Str</th>\n",
       "      <th>Depart Duration TimeDelta</th>\n",
       "      <th>Depart Landing DateTimeObj</th>\n",
       "      <th>Depart Takeoff DateTimeObj</th>\n",
       "      <th>Price</th>\n",
       "      <th>Return DateTimeStr</th>\n",
       "      <th>Return Duration Str</th>\n",
       "      <th>Return Duration TimeDelta</th>\n",
       "      <th>Return Landing DateTimeObj</th>\n",
       "      <th>Return Takeoff DateTimeObj</th>\n",
       "      <th>tag</th>\n",
       "      <th>Parsed Date</th>\n",
       "    </tr>\n",
       "  </thead>\n",
       "  <tbody>\n",
       "    <tr>\n",
       "      <th>0</th>\n",
       "      <td>Turkish Airlines</td>\n",
       "      <td>Fri 8/16 @ 10:35 pm — 8:05 pm +1</td>\n",
       "      <td>14h 30m w/ 1 stop</td>\n",
       "      <td>0 days 14:30:00</td>\n",
       "      <td>2019-08-17 20:05:00</td>\n",
       "      <td>2019-08-16 22:35:00</td>\n",
       "      <td>2122</td>\n",
       "      <td>Sun 8/18 @ 12:50 am — 7:40 pm</td>\n",
       "      <td>25h 50m w/ 1 stop</td>\n",
       "      <td>1 days 01:50:00</td>\n",
       "      <td>2019-08-18 19:40:00</td>\n",
       "      <td>2019-08-18 00:50:00</td>\n",
       "      <td>Sponsored</td>\n",
       "      <td>2019-07-27 11:17:29.769311</td>\n",
       "    </tr>\n",
       "    <tr>\n",
       "      <th>1</th>\n",
       "      <td>8/17</td>\n",
       "      <td>Sat 8/17 @ 5:45 pm — 10:15 am +2</td>\n",
       "      <td>33h 30m w/ 3 stops</td>\n",
       "      <td>1 days 09:30:00</td>\n",
       "      <td>2019-08-17 10:15:00</td>\n",
       "      <td>2019-08-17 17:45:00</td>\n",
       "      <td>970</td>\n",
       "      <td>Tue 8/20 @ 11:05 am — 7:54 pm +1</td>\n",
       "      <td>39h 49m w/ 3 stops</td>\n",
       "      <td>1 days 15:49:00</td>\n",
       "      <td>2019-08-21 19:54:00</td>\n",
       "      <td>2019-08-20 11:05:00</td>\n",
       "      <td>Cheapest</td>\n",
       "      <td>2019-07-27 11:17:29.769311</td>\n",
       "    </tr>\n",
       "    <tr>\n",
       "      <th>2</th>\n",
       "      <td>8/16</td>\n",
       "      <td>Fri 8/16 @ 1:05 pm — 10:00 am +1</td>\n",
       "      <td>13h 55m w/ 1 stop</td>\n",
       "      <td>0 days 13:55:00</td>\n",
       "      <td>2019-08-17 10:00:00</td>\n",
       "      <td>2019-08-16 13:05:00</td>\n",
       "      <td>1987</td>\n",
       "      <td>Tue 8/20 @ 4:50 am — 2:25 pm</td>\n",
       "      <td>16h 35m w/ 1 stop</td>\n",
       "      <td>0 days 16:35:00</td>\n",
       "      <td>2019-08-20 14:25:00</td>\n",
       "      <td>2019-08-20 04:50:00</td>\n",
       "      <td>Best</td>\n",
       "      <td>2019-07-27 11:17:29.769311</td>\n",
       "    </tr>\n",
       "    <tr>\n",
       "      <th>3</th>\n",
       "      <td>Thu</td>\n",
       "      <td>Thu 8/15 @ 1:05 pm — 10:00 am +1</td>\n",
       "      <td>13h 55m w/ 1 stop</td>\n",
       "      <td>0 days 13:55:00</td>\n",
       "      <td>2019-08-16 10:00:00</td>\n",
       "      <td>2019-08-15 13:05:00</td>\n",
       "      <td>1987</td>\n",
       "      <td>Tue 8/20 @ 4:50 am — 2:25 pm</td>\n",
       "      <td>16h 35m w/ 1 stop</td>\n",
       "      <td>0 days 16:35:00</td>\n",
       "      <td>2019-08-20 14:25:00</td>\n",
       "      <td>2019-08-20 04:50:00</td>\n",
       "      <td>NaN</td>\n",
       "      <td>2019-07-27 11:17:29.769311</td>\n",
       "    </tr>\n",
       "    <tr>\n",
       "      <th>4</th>\n",
       "      <td>Fri</td>\n",
       "      <td>Fri 8/16 @ 6:15 pm — 4:20 pm +1</td>\n",
       "      <td>15h 05m w/ 1 stop</td>\n",
       "      <td>0 days 15:05:00</td>\n",
       "      <td>2019-08-17 16:20:00</td>\n",
       "      <td>2019-08-16 18:15:00</td>\n",
       "      <td>1964</td>\n",
       "      <td>Tue 8/20 @ 12:20 am — 10:05 am</td>\n",
       "      <td>16h 45m w/ 1 stop</td>\n",
       "      <td>0 days 16:45:00</td>\n",
       "      <td>2019-08-20 10:05:00</td>\n",
       "      <td>2019-08-20 00:20:00</td>\n",
       "      <td>NaN</td>\n",
       "      <td>2019-07-27 11:17:29.769311</td>\n",
       "    </tr>\n",
       "  </tbody>\n",
       "</table>\n",
       "</div>"
      ],
      "text/plain": [
       "            Carrier                 Depart DateTimeStr Depart Duration Str  \\\n",
       "0  Turkish Airlines  Fri 8/16 @ 10:35 pm — 8:05 pm +1    14h 30m w/ 1 stop   \n",
       "1              8/17  Sat 8/17 @ 5:45 pm — 10:15 am +2   33h 30m w/ 3 stops   \n",
       "2              8/16  Fri 8/16 @ 1:05 pm — 10:00 am +1    13h 55m w/ 1 stop   \n",
       "3               Thu  Thu 8/15 @ 1:05 pm — 10:00 am +1    13h 55m w/ 1 stop   \n",
       "4               Fri   Fri 8/16 @ 6:15 pm — 4:20 pm +1    15h 05m w/ 1 stop   \n",
       "\n",
       "  Depart Duration TimeDelta Depart Landing DateTimeObj  \\\n",
       "0           0 days 14:30:00        2019-08-17 20:05:00   \n",
       "1           1 days 09:30:00        2019-08-17 10:15:00   \n",
       "2           0 days 13:55:00        2019-08-17 10:00:00   \n",
       "3           0 days 13:55:00        2019-08-16 10:00:00   \n",
       "4           0 days 15:05:00        2019-08-17 16:20:00   \n",
       "\n",
       "  Depart Takeoff DateTimeObj  Price                 Return DateTimeStr  \\\n",
       "0        2019-08-16 22:35:00   2122     Sun 8/18 @ 12:50 am — 7:40 pm    \n",
       "1        2019-08-17 17:45:00    970  Tue 8/20 @ 11:05 am — 7:54 pm +1    \n",
       "2        2019-08-16 13:05:00   1987      Tue 8/20 @ 4:50 am — 2:25 pm    \n",
       "3        2019-08-15 13:05:00   1987      Tue 8/20 @ 4:50 am — 2:25 pm    \n",
       "4        2019-08-16 18:15:00   1964    Tue 8/20 @ 12:20 am — 10:05 am    \n",
       "\n",
       "  Return Duration Str Return Duration TimeDelta Return Landing DateTimeObj  \\\n",
       "0   25h 50m w/ 1 stop           1 days 01:50:00        2019-08-18 19:40:00   \n",
       "1  39h 49m w/ 3 stops           1 days 15:49:00        2019-08-21 19:54:00   \n",
       "2   16h 35m w/ 1 stop           0 days 16:35:00        2019-08-20 14:25:00   \n",
       "3   16h 35m w/ 1 stop           0 days 16:35:00        2019-08-20 14:25:00   \n",
       "4   16h 45m w/ 1 stop           0 days 16:45:00        2019-08-20 10:05:00   \n",
       "\n",
       "  Return Takeoff DateTimeObj        tag                Parsed Date  \n",
       "0        2019-08-18 00:50:00  Sponsored 2019-07-27 11:17:29.769311  \n",
       "1        2019-08-20 11:05:00   Cheapest 2019-07-27 11:17:29.769311  \n",
       "2        2019-08-20 04:50:00       Best 2019-07-27 11:17:29.769311  \n",
       "3        2019-08-20 04:50:00        NaN 2019-07-27 11:17:29.769311  \n",
       "4        2019-08-20 00:20:00        NaN 2019-07-27 11:17:29.769311  "
      ]
     },
     "execution_count": 87,
     "metadata": {},
     "output_type": "execute_result"
    }
   ],
   "source": [
    "df = pd.read_csv('data/ATL_TLV.csv', parse_dates=[\"Depart Takeoff DateTimeObj\",\n",
    "                                                  \"Depart Landing DateTimeObj\",\n",
    "                                                  \"Return Takeoff DateTimeObj\",\n",
    "                                                  \"Return Landing DateTimeObj\",\n",
    "                                                  \"Parsed Date\"])\n",
    "df['Depart Duration TimeDelta'] =pd.to_timedelta(df['Depart Duration TimeDelta'])\n",
    "df['Return Duration TimeDelta'] =pd.to_timedelta(df['Return Duration TimeDelta'])\n",
    "df.head()"
   ]
  },
  {
   "cell_type": "code",
   "execution_count": 88,
   "metadata": {},
   "outputs": [
    {
     "data": {
      "text/plain": [
       "Carrier                                object\n",
       "Depart DateTimeStr                     object\n",
       "Depart Duration Str                    object\n",
       "Depart Duration TimeDelta     timedelta64[ns]\n",
       "Depart Landing DateTimeObj     datetime64[ns]\n",
       "Depart Takeoff DateTimeObj     datetime64[ns]\n",
       "Price                                   int64\n",
       "Return DateTimeStr                     object\n",
       "Return Duration Str                    object\n",
       "Return Duration TimeDelta     timedelta64[ns]\n",
       "Return Landing DateTimeObj     datetime64[ns]\n",
       "Return Takeoff DateTimeObj     datetime64[ns]\n",
       "tag                                    object\n",
       "Parsed Date                    datetime64[ns]\n",
       "dtype: object"
      ]
     },
     "execution_count": 88,
     "metadata": {},
     "output_type": "execute_result"
    }
   ],
   "source": [
    "df.dtypes"
   ]
  },
  {
   "cell_type": "code",
   "execution_count": null,
   "metadata": {
    "collapsed": true
   },
   "outputs": [],
   "source": []
  },
  {
   "cell_type": "code",
   "execution_count": 73,
   "metadata": {},
   "outputs": [
    {
     "data": {
      "text/plain": [
       "Carrier                                object\n",
       "Depart DateTimeStr                     object\n",
       "Depart Duration Str                    object\n",
       "Depart Duration TimeDelta              object\n",
       "Depart Landing DateTimeObj     datetime64[ns]\n",
       "Depart Takeoff DateTimeObj             object\n",
       "Price                                   int64\n",
       "Return DateTimeStr                     object\n",
       "Return Duration Str                    object\n",
       "Return Duration TimeDelta              object\n",
       "Return Landing DateTimeObj             object\n",
       "Return Takeoff DateTimeObj             object\n",
       "tag                                    object\n",
       "Parsed Date                            object\n",
       "ting                          timedelta64[ns]\n",
       "dtype: object"
      ]
     },
     "execution_count": 73,
     "metadata": {},
     "output_type": "execute_result"
    }
   ],
   "source": [
    "df['ting'] = pd.to_timedelta(df['Depart Duration TimeDelta'])\n",
    "df.dtypes"
   ]
  }
 ],
 "metadata": {
  "kernelspec": {
   "display_name": "Python 3",
   "language": "python",
   "name": "python3"
  },
  "language_info": {
   "codemirror_mode": {
    "name": "ipython",
    "version": 3
   },
   "file_extension": ".py",
   "mimetype": "text/x-python",
   "name": "python",
   "nbconvert_exporter": "python",
   "pygments_lexer": "ipython3",
   "version": "3.5.0"
  }
 },
 "nbformat": 4,
 "nbformat_minor": 2
}
